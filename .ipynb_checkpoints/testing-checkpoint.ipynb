{
 "metadata": {
  "name": "",
  "signature": "sha256:1d74724fd6f36f06a7c92a334218bcecf29445ccdf61bff749fbb93b8e802bcf"
 },
 "nbformat": 3,
 "nbformat_minor": 0,
 "worksheets": [
  {
   "cells": [
    {
     "cell_type": "code",
     "collapsed": false,
     "input": [],
     "language": "python",
     "metadata": {},
     "outputs": []
    }
   ],
   "metadata": {}
  }
 ]
}